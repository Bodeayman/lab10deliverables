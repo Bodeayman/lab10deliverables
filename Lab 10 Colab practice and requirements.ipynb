{
 "cells": [
  {
   "cell_type": "markdown",
   "metadata": {
    "id": "OGDHB-ra2UHa"
   },
   "source": [
    "# LAB 10 : UNIT TESTING\n",
    "\n",
    "\n",
    "---\n",
    "\n"
   ]
  },
  {
   "cell_type": "markdown",
   "metadata": {
    "id": "4kSENe963Abl"
   },
   "source": [
    "In this lab, we will learn the core concepts of Unit Testing in software development. The purpose of Unit Testing is to validate that individual units of source code, such as functions, methods, or classes, work as intended. Unit testing ensures that small, isolated components of a program behave correctly under different scenarios. Writing unit tests helps developers catch bugs early in the development cycle and maintain code reliability.\n"
   ]
  },
  {
   "cell_type": "markdown",
   "metadata": {
    "id": "hqFdnzM-3DM-"
   },
   "source": [
    "**What is a Unit ?**\n",
    "\n",
    "A unit refers to the smallest testable part of an application. This could be a function, method, or class that performs a specific task. The goal of unit testing is to ensure that each unit works in isolation without depending on other parts of the program.\n"
   ]
  },
  {
   "cell_type": "markdown",
   "metadata": {
    "id": "JtDzJjXV3IDK"
   },
   "source": [
    "**Assertions in Unit Testing**\n",
    "\n",
    "Assertions are conditions or boolean expressions that evaluate whether the output of a unit matches the expected result."
   ]
  },
  {
   "cell_type": "markdown",
   "metadata": {
    "id": "YCXn1lqc7kF0"
   },
   "source": [
    "##**Running Tests Directly (Without unittest)**"
   ]
  },
  {
   "cell_type": "markdown",
   "metadata": {
    "id": "Ccrqlr713L9x"
   },
   "source": [
    "For example:"
   ]
  },
  {
   "cell_type": "code",
   "execution_count": null,
   "metadata": {
    "colab": {
     "base_uri": "https://localhost:8080/"
    },
    "executionInfo": {
     "elapsed": 2,
     "status": "ok",
     "timestamp": 1732549084261,
     "user": {
      "displayName": "Hajar Alshafai 201-900-537",
      "userId": "15547782118153946140"
     },
     "user_tz": -120
    },
    "id": "xfNQT0gS2T4F",
    "outputId": "45fe6aef-456b-49ae-b51f-11f0436986b6"
   },
   "outputs": [
    {
     "name": "stdout",
     "output_type": "stream",
     "text": [
      "All tests passed!\n"
     ]
    }
   ],
   "source": [
    "import unittest\n",
    "def add(a, b):\n",
    "    return a + b\n",
    "\n",
    "# Unit test\n",
    "def test_add():\n",
    "    assert add(2, 3) == 5\n",
    "    assert add(0, 0) == 0\n",
    "    assert add(-1, 1) == 0\n",
    "    print(\"All tests passed!\")\n",
    "if __name__ == \"__main__\":\n",
    "    test_add()"
   ]
  },
  {
   "cell_type": "markdown",
   "metadata": {
    "id": "mCAghKqK3PBC"
   },
   "source": [
    "Here, the assert statement verifies that the add function returns the correct result for various inputs. If the assertion fails, the test reports an error, helping identify issues in the code."
   ]
  },
  {
   "cell_type": "markdown",
   "metadata": {
    "id": "JQVZNIIH7r_K"
   },
   "source": [
    "## **Running Tests Using unittest Framework**"
   ]
  },
  {
   "cell_type": "markdown",
   "metadata": {
    "id": "7YNh8K0c3SeO"
   },
   "source": [
    "Example using Python’s unittest:\n"
   ]
  },
  {
   "cell_type": "markdown",
   "metadata": {
    "id": "6J2LMIxU8M57"
   },
   "source": [
    "Failing tests:"
   ]
  },
  {
   "cell_type": "code",
   "execution_count": null,
   "metadata": {
    "colab": {
     "base_uri": "https://localhost:8080/"
    },
    "executionInfo": {
     "elapsed": 321,
     "status": "ok",
     "timestamp": 1732549139810,
     "user": {
      "displayName": "Hajar Alshafai 201-900-537",
      "userId": "15547782118153946140"
     },
     "user_tz": -120
    },
    "id": "ZvMprNjH2yda",
    "outputId": "3617dc94-4243-4a6f-a6a5-9d6e07f74037"
   },
   "outputs": [
    {
     "name": "stderr",
     "output_type": "stream",
     "text": [
      "F\n",
      "======================================================================\n",
      "FAIL: test_add (__main__.TestMathOperations)\n",
      "----------------------------------------------------------------------\n",
      "Traceback (most recent call last):\n",
      "  File \"<ipython-input-6-ba1a21695683>\", line 7, in test_add\n",
      "    self.assertEqual(add(2, 3), 4)\n",
      "AssertionError: 5 != 4\n",
      "\n",
      "----------------------------------------------------------------------\n",
      "Ran 1 test in 0.002s\n",
      "\n",
      "FAILED (failures=1)\n"
     ]
    }
   ],
   "source": [
    "import unittest\n",
    "def add(a, b):\n",
    "    return a + b\n",
    "\n",
    "class TestMathOperations(unittest.TestCase):\n",
    "    def test_add(self):\n",
    "        self.assertEqual(add(2, 3), 4)\n",
    "        self.assertEqual(add(-1, 1), 0)\n",
    "\n",
    "if __name__ == \"__main__\":\n",
    "    unittest.main(argv=[''], exit=False)\n"
   ]
  },
  {
   "cell_type": "markdown",
   "metadata": {
    "id": "fKyJ3xRy8Qwq"
   },
   "source": [
    "Successfull tests:"
   ]
  },
  {
   "cell_type": "code",
   "execution_count": null,
   "metadata": {
    "colab": {
     "base_uri": "https://localhost:8080/"
    },
    "executionInfo": {
     "elapsed": 295,
     "status": "ok",
     "timestamp": 1732549150402,
     "user": {
      "displayName": "Hajar Alshafai 201-900-537",
      "userId": "15547782118153946140"
     },
     "user_tz": -120
    },
    "id": "cPpplt4Z8Qek",
    "outputId": "db0fabf2-3212-481a-b414-3c998fdc0fe5"
   },
   "outputs": [
    {
     "name": "stderr",
     "output_type": "stream",
     "text": [
      ".\n",
      "----------------------------------------------------------------------\n",
      "Ran 1 test in 0.002s\n",
      "\n",
      "OK\n"
     ]
    }
   ],
   "source": [
    "import unittest\n",
    "def add(a, b):\n",
    "    return a + b\n",
    "\n",
    "class TestMathOperations(unittest.TestCase):\n",
    "    def test_add(self):\n",
    "        self.assertEqual(add(2, 3), 5)\n",
    "        self.assertEqual(add(-1, 1), 0)\n",
    "\n",
    "if __name__ == \"__main__\":\n",
    "    unittest.main(argv=[''], exit=False)"
   ]
  },
  {
   "cell_type": "markdown",
   "metadata": {
    "id": "pkTLlRtJ7-2M"
   },
   "source": [
    "or use this line:"
   ]
  },
  {
   "cell_type": "code",
   "execution_count": null,
   "metadata": {
    "colab": {
     "base_uri": "https://localhost:8080/"
    },
    "executionInfo": {
     "elapsed": 430,
     "status": "ok",
     "timestamp": 1732549162089,
     "user": {
      "displayName": "Hajar Alshafai 201-900-537",
      "userId": "15547782118153946140"
     },
     "user_tz": -120
    },
    "id": "3RizncaR8Aua",
    "outputId": "031e9506-b1b3-4ac0-9d81-aefc4ff7704c"
   },
   "outputs": [
    {
     "name": "stderr",
     "output_type": "stream",
     "text": [
      ".\n",
      "----------------------------------------------------------------------\n",
      "Ran 1 test in 0.002s\n",
      "\n",
      "OK\n"
     ]
    },
    {
     "data": {
      "text/plain": [
       "<unittest.main.TestProgram at 0x7a630a8c3310>"
      ]
     },
     "execution_count": 8,
     "metadata": {},
     "output_type": "execute_result"
    }
   ],
   "source": [
    "unittest.main(argv=[''], exit=False)"
   ]
  },
  {
   "cell_type": "markdown",
   "metadata": {
    "id": "uCd18NZT3VCL"
   },
   "source": [
    "Here, the unittest.TestCase class provides methods like assertEqual to validate the output of the function being tested.\n"
   ]
  },
  {
   "cell_type": "markdown",
   "metadata": {
    "id": "6WPGH5kV3Xn3"
   },
   "source": [
    "**Mocking in Unit Testing**\n",
    "\n",
    "Mocking is a technique used to replace real components (like databases, APIs, or external systems) with simulated versions during testing. This allows you to test a unit in isolation without relying on external dependencies.\n",
    "Example using Python’s unittest.mock:"
   ]
  },
  {
   "cell_type": "markdown",
   "metadata": {
    "id": "M1S8h7Rw8dBV"
   },
   "source": [
    "directly:"
   ]
  },
  {
   "cell_type": "code",
   "execution_count": null,
   "metadata": {
    "colab": {
     "base_uri": "https://localhost:8080/"
    },
    "executionInfo": {
     "elapsed": 291,
     "status": "ok",
     "timestamp": 1732549168273,
     "user": {
      "displayName": "Hajar Alshafai 201-900-537",
      "userId": "15547782118153946140"
     },
     "user_tz": -120
    },
    "id": "ZLjUlomG20jJ",
    "outputId": "5f00f05a-59cb-4ced-b647-973e932e64ec"
   },
   "outputs": [
    {
     "name": "stdout",
     "output_type": "stream",
     "text": [
      "Test passed!\n"
     ]
    }
   ],
   "source": [
    "from unittest.mock import Mock\n",
    "\n",
    "# Mocking an external API call\n",
    "api_mock = Mock(return_value={\"status\": \"success\", \"data\": []})\n",
    "response = api_mock()\n",
    "\n",
    "assert response[\"status\"] == \"success\"\n",
    "print(\"Test passed!\")"
   ]
  },
  {
   "cell_type": "markdown",
   "metadata": {
    "id": "7MFbgy0k8grt"
   },
   "source": [
    "with unittest framework:"
   ]
  },
  {
   "cell_type": "code",
   "execution_count": null,
   "metadata": {
    "colab": {
     "base_uri": "https://localhost:8080/"
    },
    "executionInfo": {
     "elapsed": 302,
     "status": "ok",
     "timestamp": 1732549171119,
     "user": {
      "displayName": "Hajar Alshafai 201-900-537",
      "userId": "15547782118153946140"
     },
     "user_tz": -120
    },
    "id": "wW4t-B9p8kEl",
    "outputId": "dc6ec7ef-0ec0-4c26-e00d-fb20bdc71c2e"
   },
   "outputs": [
    {
     "name": "stderr",
     "output_type": "stream",
     "text": [
      "..\n",
      "----------------------------------------------------------------------\n",
      "Ran 2 tests in 0.005s\n",
      "\n",
      "OK\n"
     ]
    }
   ],
   "source": [
    "import unittest\n",
    "from unittest.mock import Mock\n",
    "\n",
    "class TestAPIMock(unittest.TestCase):\n",
    "    def test_api_mock(self):\n",
    "        # Mocking an external API call\n",
    "        api_mock = Mock(return_value={\"status\": \"success\", \"data\": []})\n",
    "        response = api_mock()\n",
    "\n",
    "        # Assertions\n",
    "        self.assertEqual(response[\"status\"], \"success\")\n",
    "        self.assertEqual(response[\"data\"], [])\n",
    "\n",
    "if __name__ == \"__main__\":\n",
    "    unittest.main(argv=[''], exit=False)\n"
   ]
  },
  {
   "cell_type": "markdown",
   "metadata": {
    "id": "sP-6xryT3fp7"
   },
   "source": [
    "**Example Problem:**\n",
    "\n",
    "Write a Python function to calculate the factorial of a number and create unit tests for the function.\n"
   ]
  },
  {
   "cell_type": "code",
   "execution_count": null,
   "metadata": {
    "colab": {
     "base_uri": "https://localhost:8080/"
    },
    "executionInfo": {
     "elapsed": 287,
     "status": "ok",
     "timestamp": 1732549739893,
     "user": {
      "displayName": "Hajar Alshafai 201-900-537",
      "userId": "15547782118153946140"
     },
     "user_tz": -120
    },
    "id": "43jXOHnu22Qn",
    "outputId": "36382198-7101-4ccc-9ed1-8ceb413fe1a8"
   },
   "outputs": [
    {
     "name": "stderr",
     "output_type": "stream",
     "text": [
      "...\n",
      "----------------------------------------------------------------------\n",
      "Ran 3 tests in 0.005s\n",
      "\n",
      "OK\n"
     ]
    }
   ],
   "source": [
    "import unittest\n",
    "\n",
    "# Function to calculate factorial\n",
    "def factorial(n):\n",
    "    if n == 0 or n == 1:\n",
    "        return 1\n",
    "    return n * factorial(n - 1)\n",
    "\n",
    "# Unit test class\n",
    "class TestFactorialFunction(unittest.TestCase):\n",
    "    def test_factorial(self):\n",
    "        self.assertEqual(factorial(0), 1)  # Factorial of 0\n",
    "        self.assertEqual(factorial(1), 1)  # Factorial of 1\n",
    "        self.assertEqual(factorial(5), 120)  # Factorial of 5\n",
    "        self.assertEqual(factorial(10), 3628800)  # Factorial of 10\n",
    "\n",
    "if __name__ == \"__main__\":\n",
    "    unittest.main(argv=[''], exit=False)\n"
   ]
  },
  {
   "cell_type": "markdown",
   "metadata": {
    "id": "pS8RMBxR3llV"
   },
   "source": [
    "Explanation:\n",
    "\n",
    "In this example:\n",
    "\n",
    "The factorial function is the unit under test.\n",
    "The unit tests validate that the function produces correct results for edge cases (n=0, n=1) and general cases (n=5, n=10).\n"
   ]
  },
  {
   "cell_type": "markdown",
   "metadata": {
    "id": "tRLoc0ma3pTb"
   },
   "source": [
    "# **Practice:**\n"
   ]
  },
  {
   "cell_type": "markdown",
   "metadata": {
    "id": "FakJxV-92L74"
   },
   "source": [
    "1.Analyze and Debug a Unit Test\n",
    "\n",
    "Below is a unit test written for the function divide_numbers(a, b):"
   ]
  },
  {
   "cell_type": "code",
   "execution_count": null,
   "metadata": {
    "colab": {
     "base_uri": "https://localhost:8080/",
     "height": 321
    },
    "executionInfo": {
     "elapsed": 295,
     "status": "error",
     "timestamp": 1732549795667,
     "user": {
      "displayName": "Hajar Alshafai 201-900-537",
      "userId": "15547782118153946140"
     },
     "user_tz": -120
    },
    "id": "R_vYfJgt1-5s",
    "outputId": "9fb64f31-a11b-4c65-9b94-66a4bf49bac5"
   },
   "outputs": [
    {
     "ename": "ZeroDivisionError",
     "evalue": "division by zero",
     "output_type": "error",
     "traceback": [
      "\u001b[0;31m---------------------------------------------------------------------------\u001b[0m",
      "\u001b[0;31mZeroDivisionError\u001b[0m                         Traceback (most recent call last)",
      "\u001b[0;32m<ipython-input-16-648fbc906aa5>\u001b[0m in \u001b[0;36m<cell line: 10>\u001b[0;34m()\u001b[0m\n\u001b[1;32m      8\u001b[0m     \u001b[0mprint\u001b[0m\u001b[0;34m(\u001b[0m\u001b[0;34m\"passed\"\u001b[0m\u001b[0;34m)\u001b[0m\u001b[0;34m\u001b[0m\u001b[0;34m\u001b[0m\u001b[0m\n\u001b[1;32m      9\u001b[0m \u001b[0;34m\u001b[0m\u001b[0m\n\u001b[0;32m---> 10\u001b[0;31m \u001b[0mtest_divide_numbers\u001b[0m\u001b[0;34m(\u001b[0m\u001b[0;34m)\u001b[0m\u001b[0;34m\u001b[0m\u001b[0;34m\u001b[0m\u001b[0m\n\u001b[0m",
      "\u001b[0;32m<ipython-input-16-648fbc906aa5>\u001b[0m in \u001b[0;36mtest_divide_numbers\u001b[0;34m()\u001b[0m\n\u001b[1;32m      4\u001b[0m \u001b[0;32mdef\u001b[0m \u001b[0mtest_divide_numbers\u001b[0m\u001b[0;34m(\u001b[0m\u001b[0;34m)\u001b[0m\u001b[0;34m:\u001b[0m\u001b[0;34m\u001b[0m\u001b[0;34m\u001b[0m\u001b[0m\n\u001b[1;32m      5\u001b[0m     \u001b[0;32massert\u001b[0m \u001b[0mdivide_numbers\u001b[0m\u001b[0;34m(\u001b[0m\u001b[0;36m10\u001b[0m\u001b[0;34m,\u001b[0m \u001b[0;36m2\u001b[0m\u001b[0;34m)\u001b[0m \u001b[0;34m==\u001b[0m \u001b[0;36m5\u001b[0m\u001b[0;34m\u001b[0m\u001b[0;34m\u001b[0m\u001b[0m\n\u001b[0;32m----> 6\u001b[0;31m     \u001b[0;32massert\u001b[0m \u001b[0mdivide_numbers\u001b[0m\u001b[0;34m(\u001b[0m\u001b[0;36m5\u001b[0m\u001b[0;34m,\u001b[0m \u001b[0;36m0\u001b[0m\u001b[0;34m)\u001b[0m \u001b[0;34m==\u001b[0m \u001b[0;34m\"Undefined\"\u001b[0m  \u001b[0;31m# This is expected to fail\u001b[0m\u001b[0;34m\u001b[0m\u001b[0;34m\u001b[0m\u001b[0m\n\u001b[0m\u001b[1;32m      7\u001b[0m     \u001b[0;32massert\u001b[0m \u001b[0mdivide_numbers\u001b[0m\u001b[0;34m(\u001b[0m\u001b[0;36m0\u001b[0m\u001b[0;34m,\u001b[0m \u001b[0;36m5\u001b[0m\u001b[0;34m)\u001b[0m \u001b[0;34m==\u001b[0m \u001b[0;36m0\u001b[0m\u001b[0;34m\u001b[0m\u001b[0;34m\u001b[0m\u001b[0m\n\u001b[1;32m      8\u001b[0m     \u001b[0mprint\u001b[0m\u001b[0;34m(\u001b[0m\u001b[0;34m\"passed\"\u001b[0m\u001b[0;34m)\u001b[0m\u001b[0;34m\u001b[0m\u001b[0;34m\u001b[0m\u001b[0m\n",
      "\u001b[0;32m<ipython-input-16-648fbc906aa5>\u001b[0m in \u001b[0;36mdivide_numbers\u001b[0;34m(a, b)\u001b[0m\n\u001b[1;32m      1\u001b[0m \u001b[0;32mdef\u001b[0m \u001b[0mdivide_numbers\u001b[0m\u001b[0;34m(\u001b[0m\u001b[0ma\u001b[0m\u001b[0;34m,\u001b[0m \u001b[0mb\u001b[0m\u001b[0;34m)\u001b[0m\u001b[0;34m:\u001b[0m\u001b[0;34m\u001b[0m\u001b[0;34m\u001b[0m\u001b[0m\n\u001b[0;32m----> 2\u001b[0;31m     \u001b[0;32mreturn\u001b[0m \u001b[0ma\u001b[0m \u001b[0;34m/\u001b[0m \u001b[0mb\u001b[0m\u001b[0;34m\u001b[0m\u001b[0;34m\u001b[0m\u001b[0m\n\u001b[0m\u001b[1;32m      3\u001b[0m \u001b[0;31m# Unit test\u001b[0m\u001b[0;34m\u001b[0m\u001b[0;34m\u001b[0m\u001b[0m\n\u001b[1;32m      4\u001b[0m \u001b[0;32mdef\u001b[0m \u001b[0mtest_divide_numbers\u001b[0m\u001b[0;34m(\u001b[0m\u001b[0;34m)\u001b[0m\u001b[0;34m:\u001b[0m\u001b[0;34m\u001b[0m\u001b[0;34m\u001b[0m\u001b[0m\n\u001b[1;32m      5\u001b[0m     \u001b[0;32massert\u001b[0m \u001b[0mdivide_numbers\u001b[0m\u001b[0;34m(\u001b[0m\u001b[0;36m10\u001b[0m\u001b[0;34m,\u001b[0m \u001b[0;36m2\u001b[0m\u001b[0;34m)\u001b[0m \u001b[0;34m==\u001b[0m \u001b[0;36m5\u001b[0m\u001b[0;34m\u001b[0m\u001b[0;34m\u001b[0m\u001b[0m\n",
      "\u001b[0;31mZeroDivisionError\u001b[0m: division by zero"
     ]
    }
   ],
   "source": [
    "def divide_numbers(a, b):\n",
    "    return a / b\n",
    "# Unit test\n",
    "def test_divide_numbers():\n",
    "    assert divide_numbers(10, 2) == 5\n",
    "    assert divide_numbers(5, 0) == \"Undefined\"  # This is expected to fail\n",
    "    assert divide_numbers(0, 5) == 0\n",
    "    print(\"passed\")\n",
    "\n",
    "test_divide_numbers()"
   ]
  },
  {
   "cell_type": "markdown",
   "metadata": {
    "id": "zD_kd-rD2QSN"
   },
   "source": [
    "Write your corrected code below:"
   ]
  },
  {
   "cell_type": "code",
   "execution_count": null,
   "metadata": {
    "id": "pgKTi8NN2JSW"
   },
   "outputs": [],
   "source": []
  },
  {
   "cell_type": "markdown",
   "metadata": {
    "id": "Q12SohcQ33im"
   },
   "source": [
    "2.Write unit tests for the following functions:"
   ]
  },
  {
   "cell_type": "code",
   "execution_count": null,
   "metadata": {
    "id": "LvKbKd2833KA"
   },
   "outputs": [],
   "source": [
    "def subtract(a, b):\n",
    "    return a - b\n",
    "\n",
    "def divide(a, b):\n",
    "    if b == 0:\n",
    "        raise ValueError(\"Division by zero is not allowed\")\n",
    "    return a / b\n"
   ]
  },
  {
   "cell_type": "markdown",
   "metadata": {
    "id": "fpyZ1k_44BE3"
   },
   "source": [
    "\n",
    "Tasks:\n",
    "\n",
    "Test the subtract function with positive, negative, and zero values.\n",
    "\n",
    "Test the divide function with:\n",
    "\n",
    "Normal inputs.\n",
    "\n",
    "Division by zero (should raise an exception)."
   ]
  },
  {
   "cell_type": "code",
   "execution_count": null,
   "metadata": {
    "id": "AmGp7QhJ-5al"
   },
   "outputs": [],
   "source": []
  },
  {
   "cell_type": "markdown",
   "metadata": {
    "id": "p-Mh5KAL4AJy"
   },
   "source": [
    "# Requirement\n"
   ]
  },
  {
   "cell_type": "markdown",
   "metadata": {
    "id": "xzVApvtQ5-JT"
   },
   "source": [
    "## 1. Write Unit Tests from Scratch\n"
   ]
  },
  {
   "cell_type": "markdown",
   "metadata": {
    "id": "UftU1fg84Vu3"
   },
   "source": [
    "\n",
    "###Function 1: multiply_numbers(a, b)\n",
    "\n",
    "Write a function that multiplies two numbers and test for:\n",
    "\n",
    "Two positive numbers.\n",
    "\n",
    "Multiplication with zero.\n",
    "\n",
    "Negative numbers.\n",
    "\n"
   ]
  },
  {
   "cell_type": "code",
   "execution_count": null,
   "metadata": {
    "id": "_PI9anTR-8VL"
   },
   "outputs": [],
   "source": [
    "import unittest\n",
    "\n",
    "def multi(a, b):\n",
    "    return a * b\n",
    "\n",
    "class TestMultiplyNumbers(unittest.TestCase):\n",
    "    def test_multi(self):\n",
    "        self.assertEqual(multi(3, 4), 12)\n",
    "        self.assertEqual(multi(5, 0), 0)\n",
    "        self.assertEqual(multi(0, 5), 0)\n",
    "        self.assertEqual(multi(-3, 10), -30)\n",
    "        self.assertEqual(multi(-3, -10), 30)\n",
    "\n",
    "if __name__ == \"__main__\":\n",
    "    unittest.main(argv=[''], exit=False)"
   ]
  },
  {
   "cell_type": "markdown",
   "metadata": {
    "id": "aflATeGo4caB"
   },
   "source": [
    "###Function 2: reverse_list(input_list)\n",
    "\n",
    "Write a function that reverses a given list and test for:\n",
    "\n",
    "A normal list.\n",
    "\n",
    "An empty list.\n",
    "\n",
    "A single-element list.\n",
    "\n"
   ]
  },
  {
   "cell_type": "code",
   "execution_count": null,
   "metadata": {
    "id": "pp1e3UD7-9ky"
   },
   "outputs": [],
   "source": [
    "import unittest\n",
    "\n",
    "def reverse(list):\n",
    "    return list[::-1]\n",
    "\n",
    "class TestReverseList(unittest.TestCase):\n",
    "    def test_reverse(self):\n",
    "        self.assertEqual(reverse([0,1,2,3,4]), [4,3,2,1,0])\n",
    "        self.assertEqual(reverse([]), [])\n",
    "        self.assertEqual(reverse([40]), [40])\n",
    "\n",
    "if __name__ == \"__main__\":\n",
    "    unittest.main(argv=[''], exit=False)"
   ]
  },
  {
   "cell_type": "markdown",
   "metadata": {
    "id": "4OMo7Gzz4eRH"
   },
   "source": [
    "##2. Extend Provided Code\n",
    "\n",
    "Function 3: calculate_discount(price, discount_percentage)\n",
    "\n",
    "Extend the function by:\n",
    "\n",
    "Adding a test for valid inputs (e.g., price = 100, discount = 10%).\n",
    "\n",
    "Testing invalid discounts (negative or greater than 100%).\n",
    "\n",
    "Handling zero price or zero discount.\n",
    "\n"
   ]
  },
  {
   "cell_type": "code",
   "execution_count": null,
   "metadata": {
    "id": "rEqfOUli--45"
   },
   "outputs": [],
   "source": [
    "import unittest\n",
    "\n",
    "def calc_discount(price, percentage):\n",
    "    if price < 0:\n",
    "        raise ValueError(\"price cant be negative\")\n",
    "    if percentage < 0 or percentage > 100:\n",
    "        raise ValueError(\"discount percentage must be between 0-100\")\n",
    "    \n",
    "    return price * (1 - percentage / 100)\n",
    "\n",
    "class TestcalcDiscount(unittest.TestCase):\n",
    "    def test_calc_discount(self):\n",
    "        self.assertAlmostEqual(calc_discount(1000, 10), 900)\n",
    "        self.assertAlmostEqual(calc_discount(100, 20), 80)\n",
    "        self.assertAlmostEqual(calc_discount(0, 50), 0)\n",
    "        self.assertAlmostEqual(calc_discount(1000, 0), 1000)\n",
    "        \n",
    "        with self.assertRaises(ValueError):\n",
    "            calc_discount(100, -10)\n",
    "        with self.assertRaises(ValueError):\n",
    "            calc_discount(100, 110)\n",
    "        with self.assertRaises(ValueError):\n",
    "            calc_discount(-100, 10)\n",
    "\n",
    "if __name__ == \"__main__\":\n",
    "    unittest.main(argv=[''], exit=False)"
   ]
  },
  {
   "cell_type": "markdown",
   "metadata": {
    "id": "H-Q2zCRD4f4c"
   },
   "source": [
    "##3. Encapsulate in a Class\n",
    "\n",
    "\n",
    "Class: MathOperations\n",
    "\n",
    "Implement a class MathOperations that contains:\n",
    "\n",
    "Method 1: is_prime(n)\n",
    "\n",
    "Check if a number is prime.\n",
    "\n",
    "Test cases:\n",
    "\n",
    "Prime numbers.\n",
    "\n",
    "Non-prime numbers.\n",
    "\n",
    "Edge cases like 0, 1, and negative numbers.\n",
    "\n",
    "Method 2: factorial(n)\n",
    "\n",
    "Compute the factorial of a number.\n",
    "\n",
    "Test cases:\n",
    "\n",
    "Positive integers.\n",
    "\n",
    "Edge case: n = 0 (factorial is 1).\n",
    "\n",
    "Invalid cases: negative numbers."
   ]
  },
  {
   "cell_type": "code",
   "execution_count": null,
   "metadata": {
    "id": "_jjXOa_A_A-t"
   },
   "outputs": [],
   "source": [
    "import unittest\n",
    "\n",
    "class Operations:\n",
    "    @staticmethod\n",
    "    def is_prime(n):\n",
    "        if n <= 1:\n",
    "            return False\n",
    "        \n",
    "        for i in range(2, int(n**0.5) + 1):\n",
    "            if n % i == 0:\n",
    "                return False\n",
    "        return True\n",
    "    \n",
    "    @staticmethod\n",
    "    def factorial(n):\n",
    "        if n < 0:\n",
    "            raise ValueError(\"Factorial is not suitable for negative numbers\")\n",
    "        \n",
    "        if n <= 1:\n",
    "            return 1\n",
    "        \n",
    "        result = 1\n",
    "\n",
    "        for i in range(2, n + 1):\n",
    "            result *= i\n",
    "        return result\n",
    "\n",
    "class TestOperations(unittest.TestCase):\n",
    "    def test_is_prime(self):\n",
    "        self.assertTrue(Operations.is_prime(2))\n",
    "        self.assertTrue(Operations.is_prime(9))\n",
    "        self.assertTrue(Operations.is_prime(19))\n",
    "        \n",
    "        self.assertFalse(Operations.is_prime(4))\n",
    "        self.assertFalse(Operations.is_prime(15))\n",
    "        self.assertFalse(Operations.is_prime(100))    \n",
    "        self.assertFalse(Operations.is_prime(0))\n",
    "        self.assertFalse(Operations.is_prime(1))\n",
    "        self.assertFalse(Operations.is_prime(-5))\n",
    "    \n",
    "    def test_factorial(self):\n",
    "        self.assertEqual(Operations.factorial(0), 1)\n",
    "        self.assertEqual(Operations.factorial(1), 1)\n",
    "        self.assertEqual(Operations.factorial(5), 120)\n",
    "        self.assertEqual(Operations.factorial(6), 720)\n",
    "        \n",
    "        with self.assertRaises(ValueError):\n",
    "            Operations.factorial(-1)\n",
    "        with self.assertRaises(ValueError):\n",
    "            Operations.factorial(-10)\n",
    "\n",
    "if __name__ == \"__main__\":\n",
    "    unittest.main(argv=[''], exit=False)"
   ]
  }
 ],
 "metadata": {
  "colab": {
   "provenance": [
    {
     "file_id": "1YbFtfjwkQlk0AkhnC6DfzJOU4T__7X1d",
     "timestamp": 1732549042159
    },
    {
     "file_id": "1KTZKhFm8KfZEMwx07QC7lzCiazd99zis",
     "timestamp": 1732547658968
    }
   ]
  },
  "kernelspec": {
   "display_name": "Python 3",
   "name": "python3"
  },
  "language_info": {
   "name": "python"
  }
 },
 "nbformat": 4,
 "nbformat_minor": 0
}
